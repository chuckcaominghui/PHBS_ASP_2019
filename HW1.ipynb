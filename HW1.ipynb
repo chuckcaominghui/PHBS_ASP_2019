{
 "cells": [
  {
   "cell_type": "markdown",
   "metadata": {},
   "source": [
    "# HW 1: Corporate Bond Pricing (due by 9.17 Tues)"
   ]
  },
  {
   "cell_type": "markdown",
   "metadata": {},
   "source": [
    "We are going to compute the price of a corporate bond (subject to default) with Monte-Carlo simulation. Assume that \n",
    "* the default time of a company follows the exponential distribution with intensity $\\lambda=$__`def_rate`__. \n",
    "* the riskfree interest rate is $r_f=$__`rf_rate`__ and the maturity of the bond is $T=$__`mat`__. \n",
    "* in the case of default, you can recover some portion ($R=$__`recovery_rate`__) of the face value.\n",
    "* the coupon is 0%, i.e., it is a zero-coupon bond.\n",
    "* the face value of the bond is 1.0\n",
    "* use compound rate for discounting; the price of the default-free bond is $e^{-r_f T}$\n",
    "\n",
    "The Problem 1 of the [2017 ASP Midterm Exam](../files/ASP2017_Midterm.pdf) will be helpful.\n",
    "\n",
    "### Instruction to upload your HW\n",
    "* Create a repository named __`PHBS_ASP_2019`__ (and clone it to your PC)\n",
    "* Copy this file to __`PHBS_ASP_2019/HW1/HW1.ipynb`__  (Please use the same name for repository and ipynb file)\n",
    "* Add solution code.\n",
    "* Run your your code to make sure that there's no error.\n",
    "* Upload (commit and sync) your file."
   ]
  },
  {
   "cell_type": "markdown",
   "metadata": {},
   "source": [
    "### 1. First, let's create a pricing function and check the std "
   ]
  },
  {
   "cell_type": "code",
   "execution_count": 21,
   "metadata": {},
   "outputs": [],
   "source": [
    "import numpy as np"
   ]
  },
  {
   "cell_type": "code",
   "execution_count": 22,
   "metadata": {},
   "outputs": [],
   "source": [
    "def_rate = 0.1\n",
    "rf_rate = 0.03\n",
    "recovery = 0.3\n",
    "mat = 10"
   ]
  },
  {
   "cell_type": "markdown",
   "metadata": {},
   "source": []
  },
  {
   "cell_type": "code",
   "execution_count": 23,
   "metadata": {},
   "outputs": [
    {
     "data": {
      "text/plain": [
       "(9.93742116013964, 10.0)"
      ]
     },
     "execution_count": 23,
     "metadata": {},
     "output_type": "execute_result"
    }
   ],
   "source": [
    "# First generate exponential random numbers\n",
    "# Although you can generate directly using fault_time = np.random.exponential(scale=), let's use uniform random numbers.\n",
    "n_sample = 10000\n",
    "U = np.random.uniform(size=n_sample)\n",
    "default_time = -(1/def_rate)*np.log(U)\n",
    "\n",
    "# You can check if the RNs are correct by comparing the means\n",
    "(default_time.mean(), 1/def_rate)"
   ]
  },
  {
   "cell_type": "code",
   "execution_count": 24,
   "metadata": {},
   "outputs": [
    {
     "name": "stdout",
     "output_type": "stream",
     "text": [
      "Solution 1: The solution of calling function is 0.4382070164229224\n",
      "Solution 2: if we call for 100 times, we can get the mean is 0.44062452893315907, and the standard deviation is 0.0022896972374192026.\n"
     ]
    }
   ],
   "source": [
    "# Put your code here to price the corporate bond\n",
    "def corp_bond(mat=1, def_rate=0.03, rf_rate=0.04, recovery=0.3, n_sample=1e4):\n",
    "    U = np.random.uniform(size=n_sample)\n",
    "    default_time = -(1 / def_rate) * np.log(U)\n",
    "    \n",
    "    price_list = []\n",
    "    for i in default_time:\n",
    "        if i > mat:\n",
    "            temp_price = 1.0 * np.exp(-rf_rate * mat)\n",
    "        else:\n",
    "            temp_price = recovery * 1.0 * np.exp(-rf_rate * i)\n",
    "        price_list.append(temp_price)\n",
    "    \n",
    "    mean_price = np.mean(np.array(price_list))\n",
    "    return mean_price\n",
    "\n",
    "price = corp_bond(mat, def_rate, rf_rate, recovery, n_sample)\n",
    "print('Solution 1: The solution of calling function is', price)\n",
    "\n",
    "\n",
    "price_list = []\n",
    "for j in range(100):\n",
    "    temp_price = corp_bond(mat, def_rate, rf_rate, recovery, n_sample)\n",
    "    price_list.append(temp_price)\n",
    "\n",
    "mean_price = np.mean(price_list)\n",
    "std_price = np.std(price_list)\n",
    "print('Solution 2: if we call for 100 times, \\\n",
    "we can get the mean is {0}, and the standard deviation is {1}.'.format(mean_price, std_price))"
   ]
  },
  {
   "cell_type": "markdown",
   "metadata": {},
   "source": [
    "### 2. Now, let's improve the function by reducing the MC variations.\n",
    "1. Use antithetic method: If `U` is uniform random variable, so is `1-U`\n",
    "2. Also shift the RNs to match the mean, `1/def_rate`"
   ]
  },
  {
   "cell_type": "code",
   "execution_count": 25,
   "metadata": {},
   "outputs": [
    {
     "data": {
      "text/plain": [
       "(9.999999999999996, 10.0)"
      ]
     },
     "execution_count": 25,
     "metadata": {},
     "output_type": "execute_result"
    }
   ],
   "source": [
    "# For example, antithetic method mean\n",
    "n_sample = 10000\n",
    "U = np.random.uniform(size=int(n_sample/2))\n",
    "default_time = -(1/def_rate)*np.log(np.concatenate((U,1-U),axis=0))\n",
    "\n",
    "# Mean-matching means\n",
    "default_time += 1/def_rate-default_time.mean()\n",
    "(default_time.mean(), 1/def_rate)"
   ]
  },
  {
   "cell_type": "code",
   "execution_count": 26,
   "metadata": {},
   "outputs": [
    {
     "name": "stdout",
     "output_type": "stream",
     "text": [
      "Solution 3: Via antithetic method, the mean is 0.44044466202804544, and the standard deviation is 0.0017208452914096296.\n",
      "Solution 4: Via mean_match method, the mean is 0.44042619543125655, and the standard deviation is 0.0014959917212545386.\n",
      "Solution 5: Combining the antithetic method and mean_match method, the mean is 0.4406495656012867, and the standard deviation is 0.0013674693584874078.\n"
     ]
    }
   ],
   "source": [
    "# No include the two new features: `antithetic` and `mean_match`\n",
    "\n",
    "def corp_bond_cv(mat=1, def_rate=0.03, rf_rate=0.04, recovery=0.3, n_sample=1e4, antithetic=True, mean_match=True):\n",
    "    ### <--\n",
    "    if(antithetic):\n",
    "        U = np.random.uniform(size=int(n_sample/2))\n",
    "        default_time = -(1/def_rate)*np.log(np.concatenate((U,1-U),axis=0))\n",
    "    else:\n",
    "        U = np.random.uniform(size=n_sample)\n",
    "        default_time = -(1 / def_rate) * np.log(U)\n",
    "    \n",
    "    if(mean_match):\n",
    "        default_time += 1/def_rate-default_time.mean()\n",
    "    \n",
    "    price_list = []\n",
    "    for i in default_time:\n",
    "        if i > mat:\n",
    "            temp_price = 1.0 * np.exp(-rf_rate * mat)\n",
    "        else:\n",
    "            temp_price = recovery * 1.0 * np.exp(-rf_rate * i)\n",
    "        price_list.append(temp_price)\n",
    "    \n",
    "    return np.mean(price_list)\n",
    "\n",
    "\n",
    "antithetic = 1\n",
    "mean_match = 0\n",
    "price_list = []\n",
    "for j in range(100):\n",
    "    temp_price = corp_bond_cv(mat, def_rate, rf_rate, recovery, n_sample,\\\n",
    "                        antithetic=antithetic, mean_match=mean_match)\n",
    "    price_list.append(temp_price)\n",
    "\n",
    "mean_price = np.mean(price_list)\n",
    "std_price = np.std(price_list)\n",
    "print('Solution 3: Via antithetic method, \\\n",
    "the mean is {0}, and the standard deviation is {1}.'.format(mean_price, std_price))\n",
    "\n",
    "\n",
    "antithetic = 0\n",
    "mean_match = 1\n",
    "price_list = []\n",
    "for j in range(100):\n",
    "    temp_price = corp_bond_cv(mat, def_rate, rf_rate, recovery, n_sample,\\\n",
    "                        antithetic=antithetic, mean_match=mean_match)\n",
    "    price_list.append(temp_price)\n",
    "\n",
    "mean_price = np.mean(price_list)\n",
    "std_price = np.std(price_list)\n",
    "print('Solution 4: Via mean_match method, \\\n",
    "the mean is {0}, and the standard deviation is {1}.'.format(mean_price, std_price))\n",
    "\n",
    "#(ii)both\n",
    "antithetic = 1\n",
    "mean_match = 1\n",
    "price_list = []\n",
    "for j in range(100):\n",
    "    price = corp_bond_cv(mat, def_rate, rf_rate, recovery, n_sample,\\\n",
    "                        antithetic=antithetic, mean_match=mean_match)\n",
    "    price_list.append(price)\n",
    "\n",
    "mean_price = np.mean(price_list)\n",
    "std_price = np.std(price_list)\n",
    "print('Solution 5: Combining the antithetic method and mean_match method, \\\n",
    "the mean is {0}, and the standard deviation is {1}.'.format(mean_price, std_price))"
   ]
  },
  {
   "cell_type": "markdown",
   "metadata": {
    "collapsed": true
   },
   "source": [
    "### 3. Finally, what is the analytic value of the corporate bond? How does it compare to your MC result above?"
   ]
  },
  {
   "cell_type": "code",
   "execution_count": 27,
   "metadata": {},
   "outputs": [
    {
     "name": "stdout",
     "output_type": "stream",
     "text": [
      "Solution 6: The analytic price is 0.44040907156462505\n",
      "Solution 7: The MC result combining both antithetic method and mean_match method is 0.4406495656012867\n",
      "Solution 8: The difference is -0.0002404940366616537\n"
     ]
    }
   ],
   "source": [
    "### Put the analytic expression for the corporate bond price\n",
    "r = def_rate + rf_rate\n",
    "analytic_price = 0.3 * (1 - np.exp(-r*mat)) * def_rate / r + np.exp(-r * mat)\n",
    "print('Solution 6: The analytic price is', analytic_price)\n",
    "print('Solution 7: The MC result combining both antithetic method and mean_match \\\n",
    "method is', mean_price)\n",
    "print('Solution 8: The difference is', analytic_price - mean_price)"
   ]
  },
  {
   "cell_type": "code",
   "execution_count": null,
   "metadata": {},
   "outputs": [],
   "source": []
  },
  {
   "cell_type": "code",
   "execution_count": null,
   "metadata": {},
   "outputs": [],
   "source": []
  },
  {
   "cell_type": "code",
   "execution_count": null,
   "metadata": {},
   "outputs": [],
   "source": []
  },
  {
   "cell_type": "code",
   "execution_count": null,
   "metadata": {},
   "outputs": [],
   "source": []
  }
 ],
 "metadata": {
  "anaconda-cloud": {},
  "kernelspec": {
   "display_name": "Python 3",
   "language": "python",
   "name": "python3"
  },
  "language_info": {
   "codemirror_mode": {
    "name": "ipython",
    "version": 3
   },
   "file_extension": ".py",
   "mimetype": "text/x-python",
   "name": "python",
   "nbconvert_exporter": "python",
   "pygments_lexer": "ipython3",
   "version": "3.6.5"
  },
  "pycharm": {
   "stem_cell": {
    "cell_type": "raw",
    "metadata": {
     "collapsed": false
    },
    "source": []
   }
  }
 },
 "nbformat": 4,
 "nbformat_minor": 1
}
